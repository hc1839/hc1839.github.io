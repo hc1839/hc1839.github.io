{
 "cells": [
  {
   "cell_type": "markdown",
   "metadata": {},
   "source": [
    "# Coursework 2"
   ]
  },
  {
   "cell_type": "markdown",
   "metadata": {},
   "source": [
    "Complete both tasks, using either a notebook or a Python script. Marks will be given for\n",
    "\n",
    "* Correct implementation of algorithms to solve the tasks (10/20)\n",
    "* Complete documentation of code, especially functions, and discussion of results (6/20)\n",
    "* Unit tests and/or code robustness through eg assertions, as appropriate (4/20)"
   ]
  },
  {
   "cell_type": "code",
   "execution_count": 1,
   "metadata": {
    "collapsed": true
   },
   "outputs": [],
   "source": [
    "import numpy\n",
    "from matplotlib import pyplot, animation\n",
    "%matplotlib inline\n",
    "\n",
    "from matplotlib import rcParams\n",
    "rcParams['font.family'] = 'serif'\n",
    "rcParams['font.size'] = 16\n",
    "rcParams['figure.figsize'] = (10,6)\n",
    "\n",
    "import scipy\n",
    "from scipy.optimize import minimize_scalar\n",
    "\n",
    "from IPython.core.display import HTML"
   ]
  },
  {
   "cell_type": "markdown",
   "metadata": {},
   "source": [
    "## Agents - training the flock"
   ]
  },
  {
   "cell_type": "markdown",
   "metadata": {},
   "source": [
    "A flock of boids is trained in small groups to find the \"best\" cohesion parameter $C$. This training is done by starting a flock of four boids at the locations $[0.5 \\pm 0.25, 0.5 \\pm 0.25]$ with initial velocities $[1, 1]$. The parameters $A = 5, S = 1/4$ are always used. The parameter $C$ is chosen to minimize the variance in the average width of the flock when they evolve up to $t=5$ with timesteps $\\Delta t = 0.1$.\n",
    "\n",
    "Once the flock is trained, we need to check the impact on a \"proper\" flock."
   ]
  },
  {
   "cell_type": "markdown",
   "metadata": {},
   "source": [
    "### Tasks"
   ]
  },
  {
   "cell_type": "markdown",
   "metadata": {},
   "source": [
    "1. Given the training flock as above, use `scipy`'s `minimize_scalar` routine or equivalent to compute the best value of the parameter $C$ in the range $[0.1, 10]$. You may find the `numpy.var` routine useful for computing the variance.\n",
    "2. Once you have trained the boids, create (as in the lab) a flock of $50$ agents randomly distributed within $[0, 5]^2$. Give them initial velocities of $(1, 1) + 10^{-2} {\\bf v}_r$, where ${\\bf v}_r$ is a random velocity with each component a uniform random number in $[0, 1]$. Evolve the flock using timesteps of $0.05$ for $200$ steps and plot the flock behaviour. Also plot the \"width\" of the flock."
   ]
  },
  {
   "cell_type": "code",
   "execution_count": 2,
   "metadata": {
    "collapsed": true
   },
   "outputs": [],
   "source": []
  },
  {
   "cell_type": "markdown",
   "metadata": {},
   "source": [
    "## Finite elements - the big G"
   ]
  },
  {
   "cell_type": "markdown",
   "metadata": {},
   "source": [
    "Solve the heat equation\n",
    "\n",
    "$$\n",
    "  \\nabla^2 T + f(x, y) = 0\n",
    "$$\n",
    "\n",
    "on the domain $\\Omega$, where $\\Omega$ looks like the figure below:"
   ]
  },
  {
   "cell_type": "code",
   "execution_count": 9,
   "metadata": {
    "collapsed": false
   },
   "outputs": [
    {
     "data": {
      "image/png": "[encoded data removed]",
      "text/plain": [
       "<matplotlib.figure.Figure at 0x110996240>"
      ]
     },
     "metadata": {},
     "output_type": "display_data"
    }
   ],
   "source": [
    "domain = numpy.array([[0.0, 0.0], [4.0, 0.0], [4.0, 3.0], [2.0, 3.0], [2.0, 2.0], [3.0, 2.0], [3.0, 1.0],\n",
    "                      [1.0, 1.0], [1.0, 4.0], [4.0, 4.0], [4.0, 5.0], [0.0, 5.0], [0.0, 0.0]])\n",
    "pyplot.figure(figsize=(10,6))\n",
    "pyplot.plot(domain[:,0],domain[:,1], lw=2)\n",
    "pyplot.axis('equal')\n",
    "pyplot.xlim(-1,5)\n",
    "pyplot.ylim(-1,6)\n",
    "pyplot.xlabel(r\"$x$\")\n",
    "pyplot.ylabel(r\"$y$\")\n",
    "pyplot.show()"
   ]
  },
  {
   "cell_type": "markdown",
   "metadata": {},
   "source": [
    "The temperature $T$ is fixed to be $1$ along the whole right boundary where $x=4$. On all other boundaries the normal derivative of the temperature vanishes. The heat source $f(x, y)$ is given by\n",
    "\n",
    "$$\n",
    "  f = \\exp(-(x^2 + y^2)).\n",
    "$$"
   ]
  },
  {
   "cell_type": "markdown",
   "metadata": {},
   "source": [
    "### Tasks"
   ]
  },
  {
   "cell_type": "markdown",
   "metadata": {},
   "source": [
    "1. Using the grid generation function below, and a finite element algorithm using linear elements as in the lab, compute and plot the solution of the heat equation with triangles of side-length $1/2$ and $1/16$."
   ]
  },
  {
   "cell_type": "markdown",
   "metadata": {},
   "source": [
    "#### Grid generation"
   ]
  },
  {
   "cell_type": "code",
   "execution_count": 10,
   "metadata": {
    "collapsed": false
   },
   "outputs": [],
   "source": [
    "def find_node_index_of_location(nodes, location):\n",
    "    \"\"\"\n",
    "    Given all the nodes and a location (that should be the location of *a* node), return the index of that node.\n",
    "    \n",
    "    Parameters\n",
    "    ----------\n",
    "    \n",
    "    nodes : array of float\n",
    "        (Nnodes, 2) array containing the x, y coordinates of the nodes\n",
    "    location : array of float\n",
    "        (2,) array containing the x, y coordinates of location\n",
    "    \"\"\"\n",
    "    dist_to_location = numpy.linalg.norm(nodes - location, axis=1)\n",
    "    return numpy.argmin(dist_to_location)\n",
    "                \n",
    "\n",
    "def generate_g_grid(side_length):\n",
    "    \"\"\"\n",
    "    Generate a 2d triangulation of the letter G. All triangles have the same size (right triangles, \n",
    "    short length side_length)\n",
    "    \n",
    "    Parameters\n",
    "    ----------\n",
    "    \n",
    "    side_length : float\n",
    "        The length of each triangle. Should be 1/N for some integer N\n",
    "    \n",
    "    Returns\n",
    "    -------\n",
    "    \n",
    "    nodes : array of float\n",
    "        (Nnodes, 2) array containing the x, y coordinates of the nodes\n",
    "    IEN : array of int\n",
    "        (Nelements, 3) array linking element number to node number\n",
    "    ID : array of int\n",
    "        (Nnodes,) array linking node number to equation number; value is -1 if node should not appear in global arrays.\n",
    "    \"\"\"\n",
    "    x = numpy.arange(0, 4+0.5*side_length, side_length)\n",
    "    y = numpy.arange(0, 5+0.5*side_length, side_length)\n",
    "    X, Y = numpy.meshgrid(x,y)\n",
    "    potential_nodes = numpy.zeros((X.size,2))\n",
    "    potential_nodes[:,0] = X.ravel()\n",
    "    potential_nodes[:,1] = Y.ravel()\n",
    "    xp = potential_nodes[:,0]\n",
    "    yp = potential_nodes[:,1]\n",
    "    nodes_mask = numpy.logical_or(numpy.logical_and(xp>=2,numpy.logical_and(yp>=2,yp<=3)),\n",
    "                                  numpy.logical_or(numpy.logical_and(xp>=3,yp<=3),\n",
    "                                                   numpy.logical_or(xp<=1,\n",
    "                                                                    numpy.logical_or(yp<=1, yp>=4))))\n",
    "    nodes = potential_nodes[nodes_mask, :]\n",
    "    ID = numpy.zeros(len(nodes), dtype=numpy.int)\n",
    "    n_eq = 0\n",
    "    for nID in range(len(nodes)):\n",
    "        if numpy.allclose(nodes[nID,0], 4):\n",
    "            ID[nID] = -1\n",
    "        else:\n",
    "            ID[nID] = n_eq\n",
    "            n_eq += 1\n",
    "    inv_side_length = int(1 / side_length)\n",
    "    Nelements_per_block = inv_side_length**2\n",
    "    Nelements = 2 * 14 * Nelements_per_block\n",
    "    IEN = numpy.zeros((Nelements,3), dtype=numpy.int)\n",
    "    block_corners = [[0,0], [1,0], [2,0], [3,0],\n",
    "                     [0,1],               [3,1],\n",
    "                     [0,2],        [2,2], [3,2],\n",
    "                     [0,3],\n",
    "                     [0,4], [1,4], [2,4], [3,4]]\n",
    "    current_element = 0\n",
    "    for block in block_corners:\n",
    "        for i in range(inv_side_length):\n",
    "            for j in range(inv_side_length):\n",
    "                node_locations = numpy.zeros((4,2))\n",
    "                for a in range(2):\n",
    "                    for b in range(2):\n",
    "                        node_locations[a+2*b,0] = block[0] + (i+a)*side_length\n",
    "                        node_locations[a+2*b,1] = block[1] + (j+b)*side_length\n",
    "                index_lo_l = find_node_index_of_location(nodes, node_locations[0,:])\n",
    "                index_lo_r = find_node_index_of_location(nodes, node_locations[1,:])\n",
    "                index_hi_l = find_node_index_of_location(nodes, node_locations[2,:])\n",
    "                index_hi_r = find_node_index_of_location(nodes, node_locations[3,:])\n",
    "                IEN[current_element, :] = [index_lo_l, index_lo_r, index_hi_l]\n",
    "                current_element += 1\n",
    "                IEN[current_element, :] = [index_lo_r, index_hi_r, index_hi_l]\n",
    "                current_element += 1\n",
    "    return nodes, IEN, ID"
   ]
  },
  {
   "cell_type": "code",
   "execution_count": 11,
   "metadata": {
    "collapsed": false
   },
   "outputs": [],
   "source": [
    "nodes, IEN, ID = generate_g_grid(1/2)"
   ]
  },
  {
   "cell_type": "code",
   "execution_count": 12,
   "metadata": {
    "collapsed": false
   },
   "outputs": [
    {
     "data": {
      "image/png": "[encoded data removed]",
      "text/plain": [
       "<matplotlib.figure.Figure at 0x10c929a20>"
      ]
     },
     "metadata": {},
     "output_type": "display_data"
    }
   ],
   "source": [
    "pyplot.figure(figsize=(10,6))\n",
    "pyplot.triplot(nodes[:,0], nodes[:,1], triangles=IEN, lw=1)\n",
    "pyplot.axis('equal')\n",
    "pyplot.xlim(-1,5)\n",
    "pyplot.ylim(-1,6)\n",
    "pyplot.xlabel(r\"$x$\")\n",
    "pyplot.ylabel(r\"$y$\")\n",
    "pyplot.show()"
   ]
  },
  {
   "cell_type": "code",
   "execution_count": 13,
   "metadata": {
    "collapsed": true
   },
   "outputs": [],
   "source": []
  }
 ],
 "metadata": {
  "kernelspec": {
   "display_name": "Python 3",
   "language": "python",
   "name": "python3"
  },
  "language_info": {
   "codemirror_mode": {
    "name": "ipython",
    "version": 3
   },
   "file_extension": ".py",
   "mimetype": "text/x-python",
   "name": "python",
   "nbconvert_exporter": "python",
   "pygments_lexer": "ipython3",
   "version": "3.4.5"
  }
 },
 "nbformat": 4,
 "nbformat_minor": 0
}
